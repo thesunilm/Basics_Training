{
  "nbformat": 4,
  "nbformat_minor": 0,
  "metadata": {
    "colab": {
      "provenance": [],
      "authorship_tag": "ABX9TyPbsO6sDn5Z0AM9boBaBt7a",
      "include_colab_link": true
    },
    "kernelspec": {
      "name": "python3",
      "display_name": "Python 3"
    },
    "language_info": {
      "name": "python"
    }
  },
  "cells": [
    {
      "cell_type": "markdown",
      "metadata": {
        "id": "view-in-github",
        "colab_type": "text"
      },
      "source": [
        "<a href=\"https://colab.research.google.com/github/thesunilm/Basics_Training/blob/master/python_basic.ipynb\" target=\"_parent\"><img src=\"https://colab.research.google.com/assets/colab-badge.svg\" alt=\"Open In Colab\"/></a>"
      ]
    },
    {
      "cell_type": "code",
      "source": [
        "# Determine if a given number is even or odd\n",
        "a = 7\n",
        "b = 12\n",
        "c = 37\n",
        "\n",
        "print(a%2)"
      ],
      "metadata": {
        "colab": {
          "base_uri": "https://localhost:8080/"
        },
        "id": "EAhT8htptxNW",
        "outputId": "03cd722a-f505-4246-fc85-eec74647ddf0"
      },
      "execution_count": null,
      "outputs": [
        {
          "output_type": "stream",
          "name": "stdout",
          "text": [
            "1\n"
          ]
        }
      ]
    },
    {
      "cell_type": "code",
      "source": [
        "#Calculate the area of a circle given its radius (r = 30)\n",
        "\n",
        "pi = 3.14\n",
        "r = 30\n",
        "\n",
        "area = pi * r**2\n",
        "\n",
        "print (area)"
      ],
      "metadata": {
        "id": "IkEZO61CtxPG",
        "colab": {
          "base_uri": "https://localhost:8080/"
        },
        "outputId": "56745daf-70d1-49f6-e037-c74887f5850c"
      },
      "execution_count": null,
      "outputs": [
        {
          "output_type": "stream",
          "name": "stdout",
          "text": [
            "2826.0\n"
          ]
        }
      ]
    },
    {
      "cell_type": "code",
      "source": [
        "# Write a program two numbers and returns their sum (12, 24)\n",
        "a = 12\n",
        "b = 24\n",
        "\n",
        "print(a+b)"
      ],
      "metadata": {
        "id": "67rMsoUPtxTC",
        "colab": {
          "base_uri": "https://localhost:8080/"
        },
        "outputId": "fabba944-cb1e-4540-e73d-b1c5b1950356"
      },
      "execution_count": null,
      "outputs": [
        {
          "output_type": "stream",
          "name": "stdout",
          "text": [
            "36\n"
          ]
        }
      ]
    },
    {
      "cell_type": "code",
      "source": [
        "# Calculate the BMI given weight and height\n",
        "\n",
        "weight = 75\n",
        "height = 1.72\n",
        "\n",
        "\n",
        "bmi = weight / (height**2)\n",
        "print(bmi)"
      ],
      "metadata": {
        "id": "pvVH6kGatxVF",
        "colab": {
          "base_uri": "https://localhost:8080/"
        },
        "outputId": "3c5e014e-3a7b-4f5b-b5fa-7661331a1d42"
      },
      "execution_count": null,
      "outputs": [
        {
          "output_type": "stream",
          "name": "stdout",
          "text": [
            "25.351541373715524\n"
          ]
        }
      ]
    },
    {
      "cell_type": "code",
      "source": [
        "# Convert temperature from Celcius to Fahreinheit\n",
        "\n",
        "temp_degree = 37\n",
        "\n",
        "temp_f = temp_degree * (9/5) + 35\n",
        "\n",
        "print(temp_f)"
      ],
      "metadata": {
        "id": "ljlIOsTutxYZ",
        "colab": {
          "base_uri": "https://localhost:8080/"
        },
        "outputId": "a8d92989-2bc6-4ad5-91cb-3d449799e6f2"
      },
      "execution_count": null,
      "outputs": [
        {
          "output_type": "stream",
          "name": "stdout",
          "text": [
            "101.60000000000001\n"
          ]
        }
      ]
    },
    {
      "cell_type": "code",
      "source": [
        "# write a code to get the output of 10 using \"+\" and '*'\n",
        "\n",
        "a = 5\n",
        "b = -4\n",
        "\n",
        "c = (a+b) * 10\n",
        "print(c)"
      ],
      "metadata": {
        "id": "f_8JZ_t-txb3",
        "colab": {
          "base_uri": "https://localhost:8080/"
        },
        "outputId": "7dc01384-aa8a-4dcf-cd85-85b5972d3e16"
      },
      "execution_count": null,
      "outputs": [
        {
          "output_type": "stream",
          "name": "stdout",
          "text": [
            "10\n"
          ]
        }
      ]
    },
    {
      "cell_type": "code",
      "source": [
        "print((10+20+30)/3)"
      ],
      "metadata": {
        "id": "3CmlVJhetxfO",
        "colab": {
          "base_uri": "https://localhost:8080/"
        },
        "outputId": "7d881388-e324-4dec-fcae-227edf3589bd"
      },
      "execution_count": null,
      "outputs": [
        {
          "output_type": "stream",
          "name": "stdout",
          "text": [
            "20.0\n"
          ]
        }
      ]
    },
    {
      "cell_type": "code",
      "source": [
        "print(2**1**3**2)"
      ],
      "metadata": {
        "id": "b5jIFeq-txij",
        "colab": {
          "base_uri": "https://localhost:8080/"
        },
        "outputId": "7984d552-94aa-48af-c467-87f30fa0407c"
      },
      "execution_count": null,
      "outputs": [
        {
          "output_type": "stream",
          "name": "stdout",
          "text": [
            "2\n"
          ]
        }
      ]
    },
    {
      "cell_type": "code",
      "source": [
        "#WEEK 2\n",
        "\n",
        "# Write a program to calcuate the sum, difference, product and quotient of two numbers\n",
        "num1 = 10\n",
        "num2 = 5\n",
        "\n",
        "print(\"Sum\", num1 + num2)\n",
        "print(\"Difference\", num1 - num2)\n",
        "print(\"Product\", num1 * num2)\n",
        "print(\"Quotient\", num1 / num2)"
      ],
      "metadata": {
        "id": "eH4echgmtxlj",
        "colab": {
          "base_uri": "https://localhost:8080/"
        },
        "outputId": "0c418025-92b6-4351-fe94-39022e7d89bd"
      },
      "execution_count": null,
      "outputs": [
        {
          "output_type": "stream",
          "name": "stdout",
          "text": [
            "Sum 15\n",
            "Difference 5\n",
            "Product 50\n",
            "Quotient 2.0\n"
          ]
        }
      ]
    },
    {
      "cell_type": "code",
      "source": [
        "# Use build in function to manipulate a given string: Converting to uppercase, finding the length and replacing characters\n",
        "\n",
        "my_string = \"ACS International Ltd, Pune\"\n",
        "\n",
        "print(\"Upper case:\", my_string.upper())\n",
        "print(\"Length:\", len(my_string))\n",
        "print(\"Replace:\", my_string.replace(\"Pune\", \"Columbus\"))"
      ],
      "metadata": {
        "id": "fPBGQfGFtxo-",
        "colab": {
          "base_uri": "https://localhost:8080/"
        },
        "outputId": "42a9c6cf-2116-439c-c94e-5c963c832129"
      },
      "execution_count": null,
      "outputs": [
        {
          "output_type": "stream",
          "name": "stdout",
          "text": [
            "Upper case: ACS INTERNATIONAL LTD, PUNE\n",
            "Length: 27\n",
            "Replace: ACS International Ltd, Columbus\n"
          ]
        }
      ]
    },
    {
      "cell_type": "code",
      "source": [
        "# Write a python program to find the maximum, minimum and sum of list of numbers\n",
        "\n",
        "my_list = [10, 20, 30, 40, 50]\n",
        "\n",
        "print(\"Maximum:\", max(my_list))\n",
        "print(\"Minimum:\", min(my_list))\n",
        "print(\"Sum:\", sum(my_list))"
      ],
      "metadata": {
        "id": "7GbwWMw1txr8",
        "colab": {
          "base_uri": "https://localhost:8080/"
        },
        "outputId": "8324b760-2f11-47d2-d0f3-576d6f4b418d"
      },
      "execution_count": null,
      "outputs": [
        {
          "output_type": "stream",
          "name": "stdout",
          "text": [
            "Maximum: 50\n",
            "Minimum: 10\n",
            "Sum: 150\n"
          ]
        }
      ]
    },
    {
      "cell_type": "code",
      "source": [
        "# Write a program to convert data types ugsing build-in functions\n",
        "\n",
        "my_string = \"123\"\n",
        "int_data = int(my_string)\n",
        "float_data = float(my_string)\n",
        "print(\"Data type as integer\", type(int_data))\n",
        "print(int_data)\n",
        "print(\"Data type as float\", type(my_string))\n",
        "print(float_data)"
      ],
      "metadata": {
        "id": "zEsn3iYAtxvS",
        "colab": {
          "base_uri": "https://localhost:8080/"
        },
        "outputId": "7ba10e65-7117-4c42-bcfe-495fee3cf137"
      },
      "execution_count": null,
      "outputs": [
        {
          "output_type": "stream",
          "name": "stdout",
          "text": [
            "Data type as integer <class 'int'>\n",
            "123\n",
            "Data type as float <class 'str'>\n",
            "123.0\n"
          ]
        }
      ]
    },
    {
      "cell_type": "code",
      "source": [
        "# Swaping a value\n",
        "# a - assign the value 20 to a variable a and the value 30 to a variable b.\n",
        "\n",
        "a = 20\n",
        "b = 30\n",
        "\n",
        "print(\"Before Value of a:\", a)\n",
        "print(\"Before Value of b:\", b)\n",
        "b = a\n",
        "a = 30\n",
        "print(\"After swapping value of a:\", a)\n",
        "print(\"After swapping value of b:\", b)"
      ],
      "metadata": {
        "id": "mIY2BtzFtxys",
        "colab": {
          "base_uri": "https://localhost:8080/"
        },
        "outputId": "572282c5-7b5c-48e3-bb16-06dea17cd171"
      },
      "execution_count": null,
      "outputs": [
        {
          "output_type": "stream",
          "name": "stdout",
          "text": [
            "Before Value of a: 20\n",
            "Before Value of b: 30\n",
            "After swapping value of a: 30\n",
            "After swapping value of b: 20\n"
          ]
        }
      ]
    },
    {
      "cell_type": "code",
      "source": [
        "# Update the value of given variables using different arithmetic operations\n",
        "x = 15\n",
        "\n",
        "#add 10 to x\n",
        "\n",
        "x = x + 10\n",
        "print(\"Value of x by adding 10: \", x)\n",
        "\n",
        "# Substract 5 from updated value\n",
        "\n",
        "x = x- 5\n",
        "print(\"After substracting 5, value of x\", x)\n",
        "\n",
        "# Multiply updated value by 3\n",
        "x = x * 3\n",
        "print(\"Value updated post multiplication by 3\", x)\n",
        "\n",
        "# Divide updated value by 2\n",
        "x = x / 2\n",
        "print(\"Value updated post division by 2\", x)\n"
      ],
      "metadata": {
        "id": "cRq8xy71tQkE",
        "colab": {
          "base_uri": "https://localhost:8080/"
        },
        "outputId": "bd127f39-eb27-464a-8db8-c8b1ed00e498"
      },
      "execution_count": null,
      "outputs": [
        {
          "output_type": "stream",
          "name": "stdout",
          "text": [
            "Value of x by adding 10:  25\n",
            "After substracting 5, value of x 20\n",
            "Value updated post multiplication by 3 60\n",
            "Value updated post division by 2 30.0\n"
          ]
        }
      ]
    },
    {
      "cell_type": "code",
      "source": [
        "# Calculate average age of patients using \"for loop\";\n",
        "age = [25,34,45, 29, 60, 50]\n",
        "sum = 0\n",
        "for i in age:\n",
        "  sum = sum + i\n",
        "print(\"Average age ofnumbers: \", sum/len(age))\n"
      ],
      "metadata": {
        "id": "v0DlZ6HptQ5y",
        "colab": {
          "base_uri": "https://localhost:8080/"
        },
        "outputId": "1f71fbd0-6dd8-4910-a034-0deb66b78219"
      },
      "execution_count": 9,
      "outputs": [
        {
          "output_type": "stream",
          "name": "stdout",
          "text": [
            "average age:  40.5\n"
          ]
        }
      ]
    },
    {
      "cell_type": "code",
      "source": [
        "#Write a pythong program that uses a for loop to calculate the sum of the cubes of all the numbers from 1 to 10.\n",
        "#Print the result\n",
        "\n",
        "cube = 0\n",
        "for i in range(1,11):\n",
        "  cube = cube + (i*i*i)\n",
        "\n",
        "print(\"Sum of cubes of all numbers from 1 to 10: \", cube)"
      ],
      "metadata": {
        "id": "r1cUWd3ztQ9X",
        "colab": {
          "base_uri": "https://localhost:8080/"
        },
        "outputId": "db2dc604-5d4f-4c70-c413-15ca6faa8336"
      },
      "execution_count": 15,
      "outputs": [
        {
          "output_type": "stream",
          "name": "stdout",
          "text": [
            "Sum of cubes of all numbers from 1 to 10:  3025\n"
          ]
        }
      ]
    },
    {
      "cell_type": "code",
      "source": [
        "sum = 0\n",
        "for i in [25,34,45, 29, 60, 50]:\n",
        "  sum = sum + i\n",
        "print(\"Average age ofnumbers: \", sum/len(age))"
      ],
      "metadata": {
        "id": "eZZMeBjEtRBc",
        "colab": {
          "base_uri": "https://localhost:8080/"
        },
        "outputId": "a23be2e3-7064-4d8b-b926-a7e93ef0c331"
      },
      "execution_count": 24,
      "outputs": [
        {
          "output_type": "stream",
          "name": "stdout",
          "text": [
            "Average age ofnumbers:  40.5\n"
          ]
        }
      ]
    },
    {
      "cell_type": "code",
      "source": [],
      "metadata": {
        "id": "l8ZO9uXAReat"
      },
      "execution_count": null,
      "outputs": []
    },
    {
      "cell_type": "code",
      "source": [],
      "metadata": {
        "id": "wnq9lRKHRdZn"
      },
      "execution_count": null,
      "outputs": []
    },
    {
      "cell_type": "code",
      "source": [],
      "metadata": {
        "id": "PAUdCriKRdJ1"
      },
      "execution_count": null,
      "outputs": []
    },
    {
      "cell_type": "code",
      "source": [],
      "metadata": {
        "id": "kilauFxWRcZR"
      },
      "execution_count": null,
      "outputs": []
    },
    {
      "cell_type": "code",
      "source": [],
      "metadata": {
        "id": "OJhONkkpRbbQ"
      },
      "execution_count": null,
      "outputs": []
    },
    {
      "cell_type": "code",
      "source": [],
      "metadata": {
        "id": "Am9w9_zEtRE-"
      },
      "execution_count": null,
      "outputs": []
    },
    {
      "cell_type": "code",
      "source": [],
      "metadata": {
        "id": "g7YDQz9LtRIV"
      },
      "execution_count": null,
      "outputs": []
    },
    {
      "cell_type": "code",
      "source": [],
      "metadata": {
        "id": "HBOzVKl2tRL0"
      },
      "execution_count": null,
      "outputs": []
    },
    {
      "cell_type": "code",
      "source": [],
      "metadata": {
        "id": "UZ7f7LzBtROs"
      },
      "execution_count": null,
      "outputs": []
    },
    {
      "cell_type": "code",
      "source": [],
      "metadata": {
        "id": "j9HGBC9DtRSJ"
      },
      "execution_count": null,
      "outputs": []
    },
    {
      "cell_type": "code",
      "source": [],
      "metadata": {
        "id": "bTDI96D5tRVt"
      },
      "execution_count": null,
      "outputs": []
    },
    {
      "cell_type": "code",
      "source": [],
      "metadata": {
        "id": "57zUzZfdtRY1"
      },
      "execution_count": null,
      "outputs": []
    },
    {
      "cell_type": "code",
      "source": [],
      "metadata": {
        "id": "XXCxxHGUtRcf"
      },
      "execution_count": null,
      "outputs": []
    },
    {
      "cell_type": "code",
      "source": [],
      "metadata": {
        "id": "jxxLUMWgtRfj"
      },
      "execution_count": null,
      "outputs": []
    },
    {
      "cell_type": "code",
      "source": [],
      "metadata": {
        "id": "GSGkcAAStRl7"
      },
      "execution_count": null,
      "outputs": []
    },
    {
      "cell_type": "code",
      "source": [],
      "metadata": {
        "id": "70bQynFYtRpE"
      },
      "execution_count": null,
      "outputs": []
    },
    {
      "cell_type": "code",
      "source": [],
      "metadata": {
        "id": "RKI0l_rURhxV"
      },
      "execution_count": null,
      "outputs": []
    },
    {
      "cell_type": "code",
      "source": [],
      "metadata": {
        "id": "XI10c_2zRhnA"
      },
      "execution_count": null,
      "outputs": []
    },
    {
      "cell_type": "code",
      "source": [],
      "metadata": {
        "id": "k9ZEBQmfRhcf"
      },
      "execution_count": null,
      "outputs": []
    },
    {
      "cell_type": "code",
      "source": [],
      "metadata": {
        "id": "qX6h1Dv5RhSo"
      },
      "execution_count": null,
      "outputs": []
    },
    {
      "cell_type": "code",
      "source": [],
      "metadata": {
        "id": "6K8Sy9GJRhH5"
      },
      "execution_count": null,
      "outputs": []
    },
    {
      "cell_type": "code",
      "source": [],
      "metadata": {
        "id": "xUt288_pRg7v"
      },
      "execution_count": null,
      "outputs": []
    },
    {
      "cell_type": "code",
      "source": [],
      "metadata": {
        "id": "52DeH0feRf7p"
      },
      "execution_count": null,
      "outputs": []
    },
    {
      "cell_type": "code",
      "source": [],
      "metadata": {
        "id": "nmgoov7atRsf"
      },
      "execution_count": null,
      "outputs": []
    }
  ]
}